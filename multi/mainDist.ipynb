{
 "cells": [
  {
   "cell_type": "code",
   "execution_count": null,
   "metadata": {},
   "outputs": [],
   "source": [
    "import sys\n",
    "sys.path.append(\"../\")\n",
    "\n",
    "from DistributedMongodb import MongoDB\n",
    "from DistributedPostgreSQL import PostgreSQL\n",
    "from Performance import Performance\n",
    "import pandas as pd\n",
    "\n",
    "ignite_results_files = [\"../data/1hour_results.csv\", \"../data/5min_result.csv\"]\n",
    "\n",
    "# file path\n",
    "data_5min = \"../data/5minFukushimaActualCongestionData.tsv\"\n",
    "data_1hour = \"../data/congestion.csv\"\n",
    "\n",
    "# database instance\n",
    "db_classes = [MongoDB(),PostgreSQL]\n",
    "\n",
    "# Instantiation of the Performance class\n",
    "performance_obj = Performance(db_classes)\n",
    "\n",
    "# execution\n",
    "performance_obj.run(data_5min, data_1hour, ignite_results_files, option=\"insert\", del_option=\"all\")\n"
   ]
  }
 ],
 "metadata": {
  "kernelspec": {
   "display_name": "Python 3 (ipykernel)",
   "language": "python",
   "name": "python3"
  },
  "language_info": {
   "codemirror_mode": {
    "name": "ipython",
    "version": 3
   },
   "file_extension": ".py",
   "mimetype": "text/x-python",
   "name": "python",
   "nbconvert_exporter": "python",
   "pygments_lexer": "ipython3",
   "version": "3.12.2"
  }
 },
 "nbformat": 4,
 "nbformat_minor": 4
}
